{
 "cells": [
  {
   "cell_type": "code",
   "execution_count": 2,
   "id": "eb9dd86c-7324-49ec-bf62-509033edc8de",
   "metadata": {},
   "outputs": [],
   "source": [
    "from langchain_google_genai import ChatGoogleGenerativeAI\n",
    "from langchain_core.messages import HumanMessage\n"
   ]
  },
  {
   "cell_type": "code",
   "execution_count": 6,
   "id": "6d465162-74d2-4054-9f61-4e8a97efd39f",
   "metadata": {},
   "outputs": [],
   "source": [
    "import sys\n",
    "sys.path.append('../')\n",
    "from Secrets.openai_key import google_api_key\n",
    "import os\n",
    "os.environ['GOOGLE_API_KEY'] = google_api_key"
   ]
  },
  {
   "cell_type": "code",
   "execution_count": 9,
   "id": "044b81a0-c843-4b06-ab20-0642dd8b3c0b",
   "metadata": {},
   "outputs": [
    {
     "name": "stderr",
     "output_type": "stream",
     "text": [
      "E0000 00:00:1760217322.701933 4110982 alts_credentials.cc:93] ALTS creds ignored. Not running on GCP and untrusted ALTS is not enabled.\n"
     ]
    },
    {
     "name": "stdout",
     "output_type": "stream",
     "text": [
      "**AMEX LUMI** (often just called **LUMI**) is a digital platform developed by American Express specifically designed to help **businesses that accept American Express cards** streamline and manage their B2B (business-to-business) payment processes.\n",
      "\n",
      "In essence, it's a tool for businesses to better understand, reconcile, and process the payments they receive from other businesses using American Express cards.\n",
      "\n",
      "Here's a breakdown of what it is and what it does:\n",
      "\n",
      "1.  **Purpose:** To simplify and automate the reconciliation of American Express card payments received by businesses. B2B payments can be complex, involving detailed invoices, varying terms, and different payment methods. LUMI aims to bring clarity and efficiency to the Amex portion of this.\n",
      "\n",
      "2.  **Target Audience:** Businesses that process a significant volume of B2B payments where their customers pay using American Express corporate or business cards. It's not for individual consumers managing their personal Amex cards.\n",
      "\n",
      "3.  **Key Features & Benefits:**\n",
      "    *   **Enhanced Data & Visibility:** Provides detailed transaction data beyond what might typically appear on a bank statement, including invoice numbers, purchase order numbers, and other remittance information. This helps businesses match payments to invoices more accurately.\n",
      "    *   **Automated Reconciliation:** Helps automate the matching of incoming Amex payments with outstanding invoices in a business's accounting or Enterprise Resource Planning (ERP) system. This significantly reduces manual effort and potential errors.\n",
      "    *   **Improved Cash Flow Management:** By speeding up reconciliation, businesses can more quickly and accurately track their receivables, leading to better cash flow forecasting and management.\n",
      "    *   **Reduced Operational Costs:** Minimizes the time and resources spent on manual payment processing, investigation of discrepancies, and administrative tasks.\n",
      "    *   **Integration Capabilities:** Can often integrate with existing accounting software or ERP systems, making it a seamless part of a business's financial operations.\n",
      "    *   **Dispute Resolution:** Can assist in providing the necessary data to resolve payment disputes more efficiently.\n",
      "\n",
      "In summary, AMEX LUMI is a specialized B2B payment solution from American Express that helps businesses efficiently manage the complex process of receiving and reconciling payments made with Amex cards, ultimately saving time, reducing costs, and improving financial visibility.\n"
     ]
    }
   ],
   "source": [
    "llm = ChatGoogleGenerativeAI(model=\"gemini-2.5-flash\")\n",
    "\n",
    "# Simple text invocation\n",
    "result = llm.invoke(\"What is AMEX LUMI ?\")\n",
    "print(result.content)\n"
   ]
  },
  {
   "cell_type": "code",
   "execution_count": 10,
   "id": "c62b51bf-6a08-4390-a353-f63a97cb0c65",
   "metadata": {},
   "outputs": [],
   "source": [
    "from langchain.document_loaders.csv_loader import CSVLoader\n"
   ]
  },
  {
   "cell_type": "code",
   "execution_count": 14,
   "id": "ce79942a-1ae6-4201-a8d8-dfb15df5bdbc",
   "metadata": {},
   "outputs": [],
   "source": [
    "loader = CSVLoader(file_path='../data/data_faqs.csv',source_column='prompt')\n",
    "data = loader.load()"
   ]
  },
  {
   "cell_type": "code",
   "execution_count": 40,
   "id": "bd801e59-5633-4f7a-94b8-8ed23202f91b",
   "metadata": {},
   "outputs": [],
   "source": [
    "# data"
   ]
  },
  {
   "cell_type": "markdown",
   "id": "8b9c529e-591a-46da-83cf-29179b5f9012",
   "metadata": {},
   "source": [
    "### Create the embadding data using Hugging face"
   ]
  },
  {
   "cell_type": "code",
   "execution_count": 32,
   "id": "701e54b1-ca4c-49d8-a56a-c31778b2d1e6",
   "metadata": {},
   "outputs": [],
   "source": [
    "from langchain_community.embeddings import HuggingFaceInstructEmbeddings\n",
    "\n",
    "\n",
    "# model_name = \"hkunlp/instructor-large\"\n",
    "# model_kwargs = {'device': 'cpu'}\n",
    "# encode_kwargs = {'normalize_embeddings': True}\n",
    "# embeddings = HuggingFaceInstructEmbeddings(\n",
    "#     model_name=model_name,\n",
    "#     model_kwargs=model_kwargs,\n",
    "#     encode_kwargs=encode_kwargs\n",
    "# )"
   ]
  },
  {
   "cell_type": "code",
   "execution_count": 33,
   "id": "ce47d9b1-bfdb-4e05-ae28-b1e1eef5d75c",
   "metadata": {},
   "outputs": [
    {
     "name": "stderr",
     "output_type": "stream",
     "text": [
      "/var/folders/ls/6h78t28x6c35lwkn1jh_nxc80000gn/T/ipykernel_30205/2249563508.py:1: LangChainDeprecationWarning: Default values for HuggingFaceInstructEmbeddings.model_name were deprecated in LangChain 0.2.16 and will be removed in 0.4.0. Explicitly pass a model_name to the HuggingFaceInstructEmbeddings constructor instead.\n",
      "  embeddings = HuggingFaceInstructEmbeddings(query_instruction=\"Represent the query for retrieval: \")\n",
      "WARNING:sentence_transformers.SentenceTransformer:No sentence-transformers model found with name hkunlp/instructor-large. Creating a new one with mean pooling.\n",
      "WARNING:sentence_transformers.SentenceTransformer:`SentenceTransformer._target_device` has been deprecated, please use `SentenceTransformer.device` instead.\n"
     ]
    }
   ],
   "source": [
    "# embeddings = HuggingFaceInstructEmbeddings(query_instruction=\"Represent the query for retrieval: \")\n",
    "# e = embeddings.embed_query(\"How can I reduce my stress levels?\")"
   ]
  },
  {
   "cell_type": "code",
   "execution_count": 38,
   "id": "edffa427-7263-464e-afdc-930671011dcc",
   "metadata": {},
   "outputs": [
    {
     "name": "stderr",
     "output_type": "stream",
     "text": [
      "/var/folders/ls/6h78t28x6c35lwkn1jh_nxc80000gn/T/ipykernel_30205/355396662.py:1: LangChainDeprecationWarning: Default values for HuggingFaceInstructEmbeddings.model_name were deprecated in LangChain 0.2.16 and will be removed in 0.4.0. Explicitly pass a model_name to the HuggingFaceInstructEmbeddings constructor instead.\n",
      "  instructor_embaddings = HuggingFaceInstructEmbeddings()\n",
      "WARNING:sentence_transformers.SentenceTransformer:No sentence-transformers model found with name hkunlp/instructor-large. Creating a new one with mean pooling.\n"
     ]
    }
   ],
   "source": [
    "instructor_embaddings = HuggingFaceInstructEmbeddings()"
   ]
  },
  {
   "cell_type": "code",
   "execution_count": 39,
   "id": "721858e2-71d9-4bea-bd80-11fc2d533833",
   "metadata": {},
   "outputs": [
    {
     "data": {
      "text/plain": [
       "HuggingFaceInstructEmbeddings(client=INSTRUCTOR(\n",
       "  (0): Transformer({'max_seq_length': None, 'do_lower_case': False, 'architecture': 'T5EncoderModel'})\n",
       "  (1): Pooling({'word_embedding_dimension': 1024, 'pooling_mode_cls_token': False, 'pooling_mode_mean_tokens': True, 'pooling_mode_max_tokens': False, 'pooling_mode_mean_sqrt_len_tokens': False, 'pooling_mode_weightedmean_tokens': False, 'pooling_mode_lasttoken': False, 'include_prompt': False})\n",
       "), model_name='hkunlp/instructor-large', cache_folder=None, model_kwargs={}, encode_kwargs={}, embed_instruction='Represent the document for retrieval: ', query_instruction='Represent the question for retrieving supporting documents: ', show_progress=False)"
      ]
     },
     "execution_count": 39,
     "metadata": {},
     "output_type": "execute_result"
    }
   ],
   "source": [
    "instructor_embaddings"
   ]
  },
  {
   "cell_type": "code",
   "execution_count": 43,
   "id": "c57c388e-a328-4df0-b2be-70c88b45991b",
   "metadata": {},
   "outputs": [
    {
     "name": "stderr",
     "output_type": "stream",
     "text": [
      "WARNING:sentence_transformers.SentenceTransformer:`SentenceTransformer._target_device` has been deprecated, please use `SentenceTransformer.device` instead.\n"
     ]
    }
   ],
   "source": [
    "from langchain.vectorstores import FAISS\n",
    "vectordb = FAISS.from_documents(documents=data, embedding=instructor_embaddings)"
   ]
  },
  {
   "cell_type": "code",
   "execution_count": 44,
   "id": "ddebdf09-a25f-4bea-b7e1-3cd19839a5a7",
   "metadata": {},
   "outputs": [
    {
     "data": {
      "text/plain": [
       "<langchain_community.vectorstores.faiss.FAISS at 0x35f4e8250>"
      ]
     },
     "execution_count": 44,
     "metadata": {},
     "output_type": "execute_result"
    }
   ],
   "source": [
    "vectordb"
   ]
  },
  {
   "cell_type": "code",
   "execution_count": 46,
   "id": "3e53f096-72c5-4750-ba14-04e2720dca28",
   "metadata": {},
   "outputs": [
    {
     "data": {
      "text/plain": [
       "VectorStoreRetriever(tags=['FAISS', 'HuggingFaceInstructEmbeddings'], vectorstore=<langchain_community.vectorstores.faiss.FAISS object at 0x35f4e8250>, search_kwargs={})"
      ]
     },
     "execution_count": 46,
     "metadata": {},
     "output_type": "execute_result"
    }
   ],
   "source": [
    "# When ever you have q, we will pull the same \n",
    "retriever = vectordb.as_retriever()\n",
    "retriever"
   ]
  },
  {
   "cell_type": "code",
   "execution_count": 50,
   "id": "0554cdd4-4314-41de-ba86-54924d930135",
   "metadata": {},
   "outputs": [
    {
     "name": "stderr",
     "output_type": "stream",
     "text": [
      "WARNING:sentence_transformers.SentenceTransformer:`SentenceTransformer._target_device` has been deprecated, please use `SentenceTransformer.device` instead.\n"
     ]
    },
    {
     "data": {
      "text/plain": [
       "[Document(id='5198c108-e60c-4874-9957-474fb3fe5350', metadata={'source': 'How can I reduce my stress levels?', 'row': 6}, page_content='prompt: How can I reduce my stress levels?\\nresponse: Practice mindfulness or meditation, get regular physical exercise, ensure you get enough sleep, talk to a friend or therapist, and learn to say no to excessive commitments.'),\n",
       " Document(id='dae2d346-0547-430d-98ad-1b9c2d8e54f9', metadata={'source': 'How do I create a strong password?', 'row': 4}, page_content='prompt: How do I create a strong password?\\nresponse: Use a long passphrase (a series of random words), include numbers and symbols, avoid personal information, and use a unique password for each important account. A password manager can help.'),\n",
       " Document(id='09b1db49-2812-42c7-a17e-04969bf03469', metadata={'source': 'What should I do in a job interview?', 'row': 3}, page_content='prompt: What should I do in a job interview?\\nresponse: Research the company thoroughly, prepare specific examples of your accomplishments using the STAR method (Situation, Task, Action, Result), ask insightful questions, and send a thank-you note afterward.'),\n",
       " Document(id='93d88db6-3d10-409f-ba7d-1ca3d491b402', metadata={'source': 'How can I improve my credit score?', 'row': 1}, page_content='prompt: How can I improve my credit score?\\nresponse: Pay all bills on time, keep credit card balances low relative to their limits, avoid opening too many new accounts at once, and check your credit report regularly for errors.')]"
      ]
     },
     "execution_count": 50,
     "metadata": {},
     "output_type": "execute_result"
    }
   ],
   "source": [
    "read_answer = retriever.get_relevant_documents(\"How can I minimize my stress from my body?\")\n",
    "read_answer"
   ]
  },
  {
   "cell_type": "code",
   "execution_count": 51,
   "id": "4402ba94-ad27-4bd2-8cf5-4153a25493bb",
   "metadata": {},
   "outputs": [],
   "source": [
    "from langchain.chains import RetrievalQA"
   ]
  },
  {
   "cell_type": "code",
   "execution_count": 52,
   "id": "ed436170-2814-4f03-8eb3-ef68135c1d91",
   "metadata": {},
   "outputs": [],
   "source": [
    "chain = RetrievalQA.from_chain_type(\n",
    "    llm=llm,\n",
    "    retriever=retriever,\n",
    "    input_key=\"query\",\n",
    "    return_source_documents=True\n",
    ")"
   ]
  },
  {
   "cell_type": "code",
   "execution_count": 53,
   "id": "02e740e4-f5d6-4db2-aab7-7b99e25ab65f",
   "metadata": {},
   "outputs": [
    {
     "data": {
      "text/plain": [
       "RetrievalQA(verbose=False, combine_documents_chain=StuffDocumentsChain(verbose=False, llm_chain=LLMChain(verbose=False, prompt=ChatPromptTemplate(input_variables=['context', 'question'], input_types={}, partial_variables={}, messages=[SystemMessagePromptTemplate(prompt=PromptTemplate(input_variables=['context'], input_types={}, partial_variables={}, template=\"Use the following pieces of context to answer the user's question.\\nIf you don't know the answer, just say that you don't know, don't try to make up an answer.\\n----------------\\n{context}\"), additional_kwargs={}), HumanMessagePromptTemplate(prompt=PromptTemplate(input_variables=['question'], input_types={}, partial_variables={}, template='{question}'), additional_kwargs={})]), llm=ChatGoogleGenerativeAI(model='models/gemini-2.5-flash', google_api_key=SecretStr('**********'), client=<google.ai.generativelanguage_v1beta.services.generative_service.client.GenerativeServiceClient object at 0x10cf4f460>, default_metadata=(), model_kwargs={}), output_parser=StrOutputParser(), llm_kwargs={}), document_prompt=PromptTemplate(input_variables=['page_content'], input_types={}, partial_variables={}, template='{page_content}'), document_variable_name='context'), return_source_documents=True, retriever=VectorStoreRetriever(tags=['FAISS', 'HuggingFaceInstructEmbeddings'], vectorstore=<langchain_community.vectorstores.faiss.FAISS object at 0x35f4e8250>, search_kwargs={}))"
      ]
     },
     "execution_count": 53,
     "metadata": {},
     "output_type": "execute_result"
    }
   ],
   "source": [
    "chain"
   ]
  },
  {
   "cell_type": "code",
   "execution_count": 54,
   "id": "c379ea80-022e-4753-ae68-abc68de317df",
   "metadata": {},
   "outputs": [
    {
     "name": "stderr",
     "output_type": "stream",
     "text": [
      "/var/folders/ls/6h78t28x6c35lwkn1jh_nxc80000gn/T/ipykernel_30205/4168187109.py:1: LangChainDeprecationWarning: The method `Chain.__call__` was deprecated in langchain 0.1.0 and will be removed in 1.0. Use :meth:`~invoke` instead.\n",
      "  chain(\"what kind of phishing emails look like ?\")\n",
      "WARNING:sentence_transformers.SentenceTransformer:`SentenceTransformer._target_device` has been deprecated, please use `SentenceTransformer.device` instead.\n"
     ]
    },
    {
     "data": {
      "text/plain": [
       "{'query': 'what kind of phishing emails look like ?',\n",
       " 'result': 'Look for generic greetings, urgent or threatening language, spoofed sender addresses, requests for personal information, and suspicious links or attachments. When in doubt, contact the company directly.',\n",
       " 'source_documents': [Document(id='c3ad54ec-2349-4006-bbb0-4cddfef467df', metadata={'source': 'What are the signs of a phishing email?', 'row': 9}, page_content='prompt: What are the signs of a phishing email?\\nresponse: Look for generic greetings, urgent or threatening language, spoofed sender addresses, requests for personal information, and suspicious links or attachments. When in doubt, contact the company directly.'),\n",
       "  Document(id='dae2d346-0547-430d-98ad-1b9c2d8e54f9', metadata={'source': 'How do I create a strong password?', 'row': 4}, page_content='prompt: How do I create a strong password?\\nresponse: Use a long passphrase (a series of random words), include numbers and symbols, avoid personal information, and use a unique password for each important account. A password manager can help.'),\n",
       "  Document(id='35fd60f1-4a33-4064-a5b6-2c1c192d6ffb', metadata={'source': \"What is 'networking' and how do I do it effectively?\", 'row': 10}, page_content=\"prompt: What is 'networking' and how do I do it effectively?\\nresponse: Networking is building professional relationships. It's about offering help to others, not just asking for favors. Be genuine, listen more than you talk, and connect with people through events, LinkedIn, and informational interviews.\"),\n",
       "  Document(id='09b1db49-2812-42c7-a17e-04969bf03469', metadata={'source': 'What should I do in a job interview?', 'row': 3}, page_content='prompt: What should I do in a job interview?\\nresponse: Research the company thoroughly, prepare specific examples of your accomplishments using the STAR method (Situation, Task, Action, Result), ask insightful questions, and send a thank-you note afterward.')]}"
      ]
     },
     "execution_count": 54,
     "metadata": {},
     "output_type": "execute_result"
    }
   ],
   "source": [
    "chain(\"what kind of phishing emails look like ?\")"
   ]
  },
  {
   "cell_type": "markdown",
   "id": "f4ca86c1-ba4c-48d4-ac04-86e6389badfe",
   "metadata": {},
   "source": [
    "### This prompt template is to stop the hilousanation of the model"
   ]
  },
  {
   "cell_type": "code",
   "execution_count": 55,
   "id": "cd53bc4e-45ff-4fb8-8fa7-4fbb78b8d48e",
   "metadata": {},
   "outputs": [],
   "source": [
    "from langchain.prompts import PromptTemplate"
   ]
  },
  {
   "cell_type": "code",
   "execution_count": 63,
   "id": "6edbdd68-d6af-413c-9809-9478a34dc80f",
   "metadata": {},
   "outputs": [],
   "source": [
    "prompt_template = \"\"\"\n",
    "    Given the following context and a question, generate an answer based on this context only.\n",
    "    In the answer try to provide as much text as possible from \"response\" section in the source documnet context without making up answers.\n",
    "    If the answer is not found in the context, kindly state \"I don't know\". Don't try to make up an answer.\n",
    "    CONTEXT: {context}\n",
    "    QUESTION: {question}\n",
    "\"\"\"\n",
    "PROMPT = PromptTemplate(\n",
    "    template=prompt_template,\n",
    "    input_variables=[\"context\", \"question\"]\n",
    ")"
   ]
  },
  {
   "cell_type": "code",
   "execution_count": null,
   "id": "960749c6-12cb-4f5c-b8bb-ff104fb2c538",
   "metadata": {},
   "outputs": [],
   "source": []
  },
  {
   "cell_type": "code",
   "execution_count": 64,
   "id": "4b206385-50c3-48d2-b14c-5c4abc990586",
   "metadata": {},
   "outputs": [],
   "source": [
    "chain2 = RetrievalQA.from_chain_type(\n",
    "    llm=llm,\n",
    "    chain_type=\"stuff\",\n",
    "    retriever=retriever,\n",
    "    input_key=\"query\",\n",
    "    return_source_documents=True,\n",
    "    chain_type_kwargs={\"prompt\": PROMPT}\n",
    ")"
   ]
  },
  {
   "cell_type": "code",
   "execution_count": 65,
   "id": "9d21aff2-de96-4e99-9ea7-2009cfae6fea",
   "metadata": {},
   "outputs": [
    {
     "name": "stderr",
     "output_type": "stream",
     "text": [
      "WARNING:sentence_transformers.SentenceTransformer:`SentenceTransformer._target_device` has been deprecated, please use `SentenceTransformer.device` instead.\n"
     ]
    },
    {
     "data": {
      "text/plain": [
       "{'query': 'Do you have JS course ?',\n",
       " 'result': \"I don't know\",\n",
       " 'source_documents': [Document(id='09b1db49-2812-42c7-a17e-04969bf03469', metadata={'source': 'What should I do in a job interview?', 'row': 3}, page_content='prompt: What should I do in a job interview?\\nresponse: Research the company thoroughly, prepare specific examples of your accomplishments using the STAR method (Situation, Task, Action, Result), ask insightful questions, and send a thank-you note afterward.'),\n",
       "  Document(id='35fd60f1-4a33-4064-a5b6-2c1c192d6ffb', metadata={'source': \"What is 'networking' and how do I do it effectively?\", 'row': 10}, page_content=\"prompt: What is 'networking' and how do I do it effectively?\\nresponse: Networking is building professional relationships. It's about offering help to others, not just asking for favors. Be genuine, listen more than you talk, and connect with people through events, LinkedIn, and informational interviews.\"),\n",
       "  Document(id='5198c108-e60c-4874-9957-474fb3fe5350', metadata={'source': 'How can I reduce my stress levels?', 'row': 6}, page_content='prompt: How can I reduce my stress levels?\\nresponse: Practice mindfulness or meditation, get regular physical exercise, ensure you get enough sleep, talk to a friend or therapist, and learn to say no to excessive commitments.'),\n",
       "  Document(id='dae2d346-0547-430d-98ad-1b9c2d8e54f9', metadata={'source': 'How do I create a strong password?', 'row': 4}, page_content='prompt: How do I create a strong password?\\nresponse: Use a long passphrase (a series of random words), include numbers and symbols, avoid personal information, and use a unique password for each important account. A password manager can help.')]}"
      ]
     },
     "execution_count": 65,
     "metadata": {},
     "output_type": "execute_result"
    }
   ],
   "source": [
    "chain2(\"Do you have JS course ?\")"
   ]
  },
  {
   "cell_type": "code",
   "execution_count": null,
   "id": "049cafb8-6cf3-4ca9-bd93-c5042a7ad1f7",
   "metadata": {},
   "outputs": [],
   "source": []
  },
  {
   "cell_type": "code",
   "execution_count": null,
   "id": "e6185d5c-22bf-4bb1-be29-a7d3762cd119",
   "metadata": {},
   "outputs": [],
   "source": []
  },
  {
   "cell_type": "code",
   "execution_count": null,
   "id": "abf0c58a-9a77-4d24-8574-cfb8673f96be",
   "metadata": {},
   "outputs": [],
   "source": []
  },
  {
   "cell_type": "code",
   "execution_count": null,
   "id": "e7cce694-7024-4fc0-8ce1-cf67906ae23d",
   "metadata": {},
   "outputs": [],
   "source": []
  },
  {
   "cell_type": "code",
   "execution_count": null,
   "id": "19a61819-a6f4-4648-8667-7172f6c78d20",
   "metadata": {},
   "outputs": [],
   "source": []
  },
  {
   "cell_type": "code",
   "execution_count": null,
   "id": "7fa5b2c7-a113-404d-920e-eea0b8d2af88",
   "metadata": {},
   "outputs": [],
   "source": []
  },
  {
   "cell_type": "code",
   "execution_count": null,
   "id": "b253b0c7-99bb-4297-bc0d-5ee626244d26",
   "metadata": {},
   "outputs": [],
   "source": []
  }
 ],
 "metadata": {
  "kernelspec": {
   "display_name": "Python 3 (ipykernel)",
   "language": "python",
   "name": "python3"
  },
  "language_info": {
   "codemirror_mode": {
    "name": "ipython",
    "version": 3
   },
   "file_extension": ".py",
   "mimetype": "text/x-python",
   "name": "python",
   "nbconvert_exporter": "python",
   "pygments_lexer": "ipython3",
   "version": "3.10.10"
  }
 },
 "nbformat": 4,
 "nbformat_minor": 5
}
